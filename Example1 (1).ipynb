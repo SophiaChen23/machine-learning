{
 "cells": [
  {
   "cell_type": "markdown",
   "metadata": {},
   "source": [
    "Any variable, function, or library that you define, or import has to be done before using it.\n",
    "I've imported the libraries in both of the notebook cells to avoid any errors that you might get, but the repetition is unnecessary. The first cell corresponds to KNN on synthetic data, and the second cell, to KNN on the Iris dataset."
   ]
  },
  {
   "cell_type": "code",
   "execution_count": 1,
   "metadata": {},
   "outputs": [
    {
     "name": "stdout",
     "output_type": "stream",
     "text": [
      "Prediction on the synthetic data: [0]\n"
     ]
    }
   ],
   "source": [
    "'''Library imports'''\n",
    "from sklearn import datasets\n",
    "from sklearn.neighbors import KNeighborsClassifier\n",
    "import numpy as np\n",
    "\n",
    "'''First example: synthetic data'''\n",
    "\n",
    "'''Constants'''\n",
    "n_neighbors = 3 # can be any number, default = 5\n",
    "\n",
    "'''The data part: define a dataset'''\n",
    "my_X = np.array([[1,2],[2,3],[1,4],[4,2],[3,1],[2.5,3.5]]) # feature vector\n",
    "my_Y = np.array([1,0,1,1,0,0]) # labels\n",
    "\n",
    "'''The classifier part'''\n",
    "my_first_knn = KNeighborsClassifier(n_neighbors) # I make an object of KNN\n",
    "my_first_knn.fit(my_X, my_Y)\n",
    "print ('Prediction on the synthetic data:', my_first_knn.predict([[0.5,0.5]])) # some arbitray data point"
   ]
  },
  {
   "cell_type": "code",
   "execution_count": 2,
   "metadata": {},
   "outputs": [
    {
     "name": "stdout",
     "output_type": "stream",
     "text": [
      "Prediction on the Iris data:  [1]\n"
     ]
    }
   ],
   "source": [
    "'''library imports'''\n",
    "from sklearn import datasets\n",
    "from sklearn.neighbors import KNeighborsClassifier\n",
    "import numpy as np\n",
    "\n",
    "'''Second example: Iris dataset'''\n",
    "\n",
    "'''Constants'''\n",
    "n_neighbors = 3 # can be any number, default = 5\n",
    "\n",
    "'''Import the dataset'''\n",
    "iris = datasets.load_iris()\n",
    "\n",
    "'''The classifier'''\n",
    "my_knn = KNeighborsClassifier(n_neighbors=3) # I make an object of KNN\n",
    "my_knn.fit(iris.data, iris.target) # training phase, iris.data = X, i.e., \n",
    "                                    #the feature vector, and iris.target = Y, i.e., the labels\n",
    "\n",
    "'''Prediction using the classifier'''\n",
    "print ('Prediction on the Iris data: ', my_knn.predict([[1,2,3,4]]))"
   ]
  },
  {
   "cell_type": "code",
   "execution_count": null,
   "metadata": {},
   "outputs": [],
   "source": []
  }
 ],
 "metadata": {
  "kernelspec": {
   "display_name": "Python 3",
   "language": "python",
   "name": "python3"
  },
  "language_info": {
   "codemirror_mode": {
    "name": "ipython",
    "version": 3
   },
   "file_extension": ".py",
   "mimetype": "text/x-python",
   "name": "python",
   "nbconvert_exporter": "python",
   "pygments_lexer": "ipython3",
   "version": "3.5.2"
  }
 },
 "nbformat": 4,
 "nbformat_minor": 2
}
